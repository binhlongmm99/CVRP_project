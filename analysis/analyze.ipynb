{
 "cells": [
  {
   "cell_type": "code",
   "execution_count": 67,
   "metadata": {},
   "outputs": [],
   "source": [
    "import glob\n",
    "import json\n",
    "import csv\n",
    "import os\n",
    "import pandas as pd"
   ]
  },
  {
   "cell_type": "code",
   "execution_count": 68,
   "metadata": {},
   "outputs": [],
   "source": [
    "def loadResultPaths(path, dataset, instance):\n",
    "    all_instance_path = glob.glob(path + dataset + \"/\" + instance[:-4] + \"/*.csv\")\n",
    "    all_instance_path = [i.replace(\"\\\\\",\"/\") for i in all_instance_path]\n",
    "    # print(all_instance_path)\n",
    "    csv_files = [eachpath.split(\"/\")[-1] for eachpath in all_instance_path]\n",
    "    # print(csv_files)\n",
    "    return all_instance_path, csv_files"
   ]
  },
  {
   "cell_type": "code",
   "execution_count": 69,
   "metadata": {},
   "outputs": [],
   "source": [
    "def cleanResult(csv_file_path):\n",
    "    loaded_result = pd.read_csv(csv_file_path)\n",
    "\n",
    "    min_column = loaded_result['min']\n",
    "\n",
    "    def clean_row(inp):\n",
    "        out = inp.replace(\"[\",\"\").replace(\"]\",\"\").strip().split(\" \")\n",
    "        return out\n",
    "\n",
    "    min_dist = [float(clean_row(i)[-1]) for i in min_column]\n",
    "    return min_dist[-1]\n"
   ]
  },
  {
   "cell_type": "code",
   "execution_count": 70,
   "metadata": {},
   "outputs": [
    {
     "name": "stdout",
     "output_type": "stream",
     "text": [
      "901.10063206\n"
     ]
    }
   ],
   "source": [
    "print(cleanResult(\"../results/result_GA/19-4-2022/A/A-n32-k5/A-n32-k5_pop200_crossProb0.8_mutProb0.1_numGen5000_seed0.csv\"))"
   ]
  },
  {
   "cell_type": "code",
   "execution_count": 71,
   "metadata": {},
   "outputs": [],
   "source": [
    "with open(\"./analyze_config.json\", 'r') as f:\n",
    "        config = json.load(f)"
   ]
  },
  {
   "cell_type": "code",
   "execution_count": 72,
   "metadata": {},
   "outputs": [],
   "source": [
    "def write_to_csv(filename, data):\n",
    "    file = open(filename, 'w+', newline ='')\n",
    "  \n",
    "    # writing the data into the file\n",
    "    with file:    \n",
    "        write = csv.writer(file)\n",
    "        write.writerows(map(lambda x: [x], data))"
   ]
  },
  {
   "cell_type": "code",
   "execution_count": 73,
   "metadata": {},
   "outputs": [],
   "source": [
    "def analyzeInstance(config, dataset, instance, data):\n",
    "    filename = config[\"output_path\"] + dataset + \"/\" + instance[:-4] + \".csv\"\n",
    "    os.makedirs(os.path.dirname(filename), exist_ok=True)\n",
    "    write_to_csv(filename, data)\n"
   ]
  },
  {
   "cell_type": "code",
   "execution_count": 74,
   "metadata": {},
   "outputs": [],
   "source": [
    "def analyzeAllInstance(config):\n",
    "    for dataset in config[\"input_result\"][\"set\"]:\n",
    "        for instance in config[\"instance\"][dataset]:\n",
    "            instance_path, csv_files = loadResultPaths(config[\"input_result\"][\"input_path\"], \n",
    "                                                        dataset, instance)\n",
    "            # Analyze all\n",
    "            res = []\n",
    "            for eachpath in instance_path:\n",
    "                res.append(cleanResult(eachpath))\n",
    "            # print(res)\n",
    "            res.append(min(res))\n",
    "            res.append(sum(res)/len(res))\n",
    "            analyzeInstance(config, dataset, instance, res)"
   ]
  },
  {
   "cell_type": "code",
   "execution_count": 75,
   "metadata": {},
   "outputs": [],
   "source": [
    "analyzeAllInstance(config)"
   ]
  },
  {
   "cell_type": "code",
   "execution_count": null,
   "metadata": {},
   "outputs": [],
   "source": []
  }
 ],
 "metadata": {
  "interpreter": {
   "hash": "6ad2903d9f8eb78095a8e1054d3b7d96029c25240c1559c5c7674409ebbac066"
  },
  "kernelspec": {
   "display_name": "Python 3.7.4 ('base')",
   "language": "python",
   "name": "python3"
  },
  "language_info": {
   "codemirror_mode": {
    "name": "ipython",
    "version": 3
   },
   "file_extension": ".py",
   "mimetype": "text/x-python",
   "name": "python",
   "nbconvert_exporter": "python",
   "pygments_lexer": "ipython3",
   "version": "3.7.4"
  },
  "orig_nbformat": 4
 },
 "nbformat": 4,
 "nbformat_minor": 2
}
